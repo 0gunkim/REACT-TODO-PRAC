{
  "nbformat": 4,
  "nbformat_minor": 0,
  "metadata": {
    "colab": {
      "provenance": [],
      "include_colab_link": true
    },
    "kernelspec": {
      "name": "python3",
      "display_name": "Python 3"
    },
    "language_info": {
      "name": "python"
    }
  },
  "cells": [
    {
      "cell_type": "markdown",
      "metadata": {
        "id": "view-in-github",
        "colab_type": "text"
      },
      "source": [
        "<a href=\"https://colab.research.google.com/github/0gunkim/REACT-TODO-PRAC/blob/main/%ED%8C%8C%EC%9D%B4%EC%8D%AC_%EA%B8%B0%EC%B4%88_1_(Sol)_ipynb%EC%9D%98_%EC%82%AC%EB%B3%B8.ipynb\" target=\"_parent\"><img src=\"https://colab.research.google.com/assets/colab-badge.svg\" alt=\"Open In Colab\"/></a>"
      ]
    },
    {
      "cell_type": "markdown",
      "source": [
        "# 파이썬 기초 1"
      ],
      "metadata": {
        "id": "8bzyrObVfyhv"
      }
    },
    {
      "cell_type": "markdown",
      "source": [
        "## 목차\n",
        "\n",
        "1. Python 이란?\n",
        "2. print()\n",
        "3. 기초 자료형과 연산\n",
        "4. 문자열 / 리스트 접근하기\n",
        "5. 입력 - input()\n",
        "6. 논리 자료형와 비교 연산\n",
        "7. 조건문"
      ],
      "metadata": {
        "id": "aTcnfNiVhiSH"
      }
    },
    {
      "cell_type": "markdown",
      "source": [
        "## 1. print()\n",
        "\n",
        "```\n",
        "print(\"출력할 내용\")\n",
        "```"
      ],
      "metadata": {
        "id": "kgS9IJi7fvlu"
      }
    },
    {
      "cell_type": "code",
      "execution_count": null,
      "metadata": {
        "id": "gZ2qT7yUv1Bu"
      },
      "outputs": [],
      "source": [
        "# print(\"출력할 내용\")\n",
        "print('Hello World!')"
      ]
    },
    {
      "cell_type": "markdown",
      "source": [
        "Q. 하나가 아닌, 여러 자료를 출력하고 싶을 땐 어떻게 하면 좋을까요?\n",
        "\n",
        "```\n",
        "스타트업 스테이션 7 기\n",
        "```"
      ],
      "metadata": {
        "id": "MN7O6tZWf9QH"
      }
    },
    {
      "cell_type": "code",
      "source": [
        "# print('스타트업 스테이션', 7, '기')\n",
        "print('스타트업 스테이션', 7, '기')"
      ],
      "metadata": {
        "id": "9b9Y_Tnov6PL",
        "colab": {
          "base_uri": "https://localhost:8080/"
        },
        "outputId": "c29392f1-e0c7-4fa7-d691-38b90242580b"
      },
      "execution_count": 1,
      "outputs": [
        {
          "output_type": "stream",
          "name": "stdout",
          "text": [
            "스타트업 스테이션 7 기\n"
          ]
        }
      ]
    },
    {
      "cell_type": "markdown",
      "source": [
        "Q. 여러 개의 문장을 출력하고 싶은데.. 어떻게 하면 좋을까요?\n",
        "\n",
        "```\n",
        "안녕하세요!\n",
        "테킷 스타트업 스테이션 Crew 여러분\n",
        "반갑습니다!\n",
        "```"
      ],
      "metadata": {
        "id": "qxYQ8ZzJgOlg"
      }
    },
    {
      "cell_type": "code",
      "source": [
        "print('안녕하세요!')\n",
        "print('테킷 스타트업 스테이션 Crew 여러분')\n",
        "print('반갑습니다!')"
      ],
      "metadata": {
        "id": "7c9xZg8lwOGr"
      },
      "execution_count": null,
      "outputs": []
    },
    {
      "cell_type": "markdown",
      "source": [
        "### 실습 1\n",
        "\n",
        "여러분이 이번 과정에서 이루고 싶은 것을 앞에서 배운 print() 를 활용해서 출력해보세요!"
      ],
      "metadata": {
        "id": "6eO-DyHRhUX4"
      }
    },
    {
      "cell_type": "code",
      "source": [
        "# print()\n",
        "print(\"여러분들과 2월 7일까지 무탈하게 교육 및 프로젝트를 마무리 하는 것 입니다!\")"
      ],
      "metadata": {
        "id": "gSU9JtuTjq6j"
      },
      "execution_count": null,
      "outputs": []
    },
    {
      "cell_type": "markdown",
      "source": [
        "## 2. 기초 자료형과 연산"
      ],
      "metadata": {
        "id": "0zwVE6WLh9nP"
      }
    },
    {
      "cell_type": "markdown",
      "source": [
        "### 1. 숫자형 (Number)\n",
        "\n",
        "숫자로 이루어진 자료형 정수나 실수 등을 다룰 수 있습니다.\n",
        "\n",
        "숫자끼리 연산이 가능합니다."
      ],
      "metadata": {
        "id": "2qqtDqzNiAIu"
      }
    },
    {
      "cell_type": "code",
      "source": [
        "print(3) # 정수 int\n",
        "print(3.14) # 실수 float"
      ],
      "metadata": {
        "id": "DuMFgQicw532"
      },
      "execution_count": null,
      "outputs": []
    },
    {
      "cell_type": "markdown",
      "source": [
        "### 2. 문자열 (String)\n",
        "\n",
        "문자나 문자들을 늘어놓은 것 큰 따옴표 (“”) 와 작은 따옴표 (‘’) 로 구분 합니다."
      ],
      "metadata": {
        "id": "96FarrhUiLoD"
      }
    },
    {
      "cell_type": "code",
      "source": [
        "print('Hello')\n",
        "print('3.14') # 작은 따옴표 가능!\n",
        "print(\"3.14\") # 큰 따옴표 가능!"
      ],
      "metadata": {
        "id": "c8tmX96Zz89a"
      },
      "execution_count": null,
      "outputs": []
    },
    {
      "cell_type": "markdown",
      "source": [
        "### 3. 리스트 (List)\n",
        "\n",
        "여러 자료를 보관하는 자료형 다른 종류의 자료를 함께 담을 수 있습니다.\n",
        "\n",
        "자료 안에 순서가 있습니다."
      ],
      "metadata": {
        "id": "KTTGZeTTiStX"
      }
    },
    {
      "cell_type": "code",
      "source": [
        "# 빈 리스트 []\n",
        "print(['a', 'b'])\n",
        "print(['a', 2]) # 다른 자료형과 함께 가능"
      ],
      "metadata": {
        "id": "z2eTZrvB1HqJ"
      },
      "execution_count": null,
      "outputs": []
    },
    {
      "cell_type": "markdown",
      "source": [
        "### 4. 주석 (Comment)\n",
        "\n",
        "주석은 컴퓨터가 무시합니다.\n",
        "\n",
        "한 줄 주석은 #, 여러 줄 주석은 “““ ”””, ‘‘‘ ’’’로 합니다."
      ],
      "metadata": {
        "id": "WXbOypv6jIMo"
      }
    },
    {
      "cell_type": "code",
      "source": [
        "# 주석 처리\n",
        "\n",
        "'''\n",
        "컴퓨터가 실행하지 않습니다.\n",
        "'''\n",
        "\n",
        "print('이것만 나옵니다.')"
      ],
      "metadata": {
        "id": "2OfwN7sd2MpA"
      },
      "execution_count": null,
      "outputs": []
    },
    {
      "cell_type": "markdown",
      "source": [
        "### 실습 2\n",
        "\n",
        "앞에서 배워 본 자료형을 활용해보겠습니다!"
      ],
      "metadata": {
        "id": "X3sI-HuyjQXH"
      }
    },
    {
      "cell_type": "markdown",
      "source": [
        "Python에 있는 대표적인 자료형으로는 숫자형 자료와 문자형 자료, 그리고 리스트형 자료가 있습니다.\n",
        "\n",
        "1. 숫자 자료형은 우리가 알고있는 1, 2, 3 등의 정수와 3.14 등의 실수를 포함한 자료형입니다.\n",
        "\n",
        "2. 문자 자료형은 'a', \"abc\"와 같이 한 문자나 단어, 문장을 '' 혹은 \"\"로 묶어준 자료형입니다.\n",
        "\n",
        "3. 리스트 자료형는 위의 숫자형, 문자열 등의 여러 자료형을 한번에 담는 자료형입니다.\n",
        "\n",
        "```\n",
        "123 # 숫자\n",
        "\"I love Python\" # 문자\n",
        "[1, 2, 3] # 리스트\n",
        "```\n",
        "\n",
        "자료형은 저마다 연산하는 방식을 가지고 있는데, 그 중에서 +(더하기) 기호가 자료형마다 어떻게 적용되는지 확인해봅시다."
      ],
      "metadata": {
        "id": "FaiijzuRjXLO"
      }
    },
    {
      "cell_type": "code",
      "source": [
        "#숫자 50과 숫자 50을 더해서 출력해봅시다!\n",
        "print(50+50)\n",
        "\n",
        "#문자열 \"50\"과 문자열 \"50\"을 더해서 출력해봅시다!\n",
        "print(\"50\"+\"50\")\n",
        "\n",
        "#리스트 [50]과 리스트 [50]을 더해서 출력해봅시다!\n",
        "print([50]+[50])"
      ],
      "metadata": {
        "id": "PfYWqAkNjnoK"
      },
      "execution_count": null,
      "outputs": []
    },
    {
      "cell_type": "markdown",
      "source": [
        "### 변수\n",
        "\n",
        "```\n",
        "변수 사용방법\n",
        "\n",
        "변수 이름 = 자료\n",
        "```"
      ],
      "metadata": {
        "id": "D5UYnRQoj18V"
      }
    },
    {
      "cell_type": "code",
      "source": [
        "number_ = 7 # 숫자 (int)\n",
        "name_ = 'LikeLion' # 문자열 (str)\n",
        "class_ = ['OnLine', 'OffLine'] # 리스트 (list)\n",
        "\n",
        "print(number_, name_, class_)"
      ],
      "metadata": {
        "id": "95nZLvu821W6"
      },
      "execution_count": null,
      "outputs": []
    },
    {
      "cell_type": "markdown",
      "source": [
        "### 변수 이름 짓는 방법\n",
        "\n",
        "1. 숫자, 알파벳, 한글, 언더바(_) 등 사용 가능\n",
        "2. 변수 이름이 숫자로 시작하면 X\n",
        "3. 파이썬 문법에서 사용되는 예약어 (이미 사용 되는 단어 : for, while, if …) 사용 금지\n",
        "4. 공백 문자 (‘’), 연산자 (+, -, % 등) 사용 금지"
      ],
      "metadata": {
        "id": "nnFM1KrfkKYp"
      }
    },
    {
      "cell_type": "markdown",
      "source": [
        "### 실습 3\n",
        "\n",
        "변수의 사용 방법을 배워봅시다."
      ],
      "metadata": {
        "id": "pQNl06QRkhpH"
      }
    },
    {
      "cell_type": "code",
      "source": [
        "# 변수에는 정수, 실수같은 숫자를 저장할 수 있고,\n",
        "num1 = 1\n",
        "num2 = 2\n",
        "\n",
        "# 영어나 한글같은 문자도 저장할 수 있어요.\n",
        "character = 'a'\n",
        "\n",
        "# 이런 문자들의 집합도 저장할 수 있고,\n",
        "string = 'Python'\n",
        "\n",
        "# 자료들을 여러 개 담을 수 있는 리스트 또한 저장할 수 있어요.\n",
        "threeList = [1, 'a', 'Python']\n",
        "\n",
        "# 여러분의 변수를 만들어 봅시다. my_var라는 이름의 변수를 만들고, 원하는 값을 넣어보세요!\n",
        "my_var = 10\n",
        "\n",
        "# 변수는 print()에 넣을 수도 있어요! my_var를 print로 출력해서 값이 잘 들어갔는지 확인해봅시다!\n",
        "print(my_var)\n",
        "\n",
        "# 변수끼리는 연산 또한 가능합니다. 예를들어, 위에 있는 num1, num2을 더하면?!\n",
        "print(num1+num2)"
      ],
      "metadata": {
        "id": "qRedQACnkX25"
      },
      "execution_count": null,
      "outputs": []
    },
    {
      "cell_type": "markdown",
      "source": [
        "### 실습 4\n",
        "\n",
        "print를 이용해서 귀여운 토끼를 그려봅시다.\n",
        "\n",
        "- 출력 예시\n",
        "    ```\n",
        "    (\\_/)\n",
        "    (. . )\n",
        "    |\\ /|\n",
        "    ```\n",
        "\n",
        "- 참고 사항!\n",
        "\n",
        "    ```\n",
        "    역 슬래시(`\\`)의 출력과 `\\n` (줄바꿈) 와 같은 이스케이프 시퀀스를 구분하기 위해서는 다음처럼 출력해야 합니다.\n",
        "    ```"
      ],
      "metadata": {
        "id": "DiLmRO3olDE5"
      }
    },
    {
      "cell_type": "code",
      "source": [
        "# 정답 코드 1\n",
        "print(\"(\\_/)\\n(. . )\\n|\\ /|\")\n",
        "\n",
        "# 정답 코드 2\n",
        "print(\"(\\_/)\")\n",
        "print(\"(. . )\")\n",
        "print(\"|\\ /|\")"
      ],
      "metadata": {
        "id": "mZ7eZixd0HLR"
      },
      "execution_count": null,
      "outputs": []
    },
    {
      "cell_type": "markdown",
      "source": [
        "### 자료형의 연산\n",
        "\n",
        "```\n",
        "+ : 더하기\n",
        "- : 빼기\n",
        "* : 곱하기\n",
        "/ : 나누기\n",
        "```"
      ],
      "metadata": {
        "id": "9QzDQC0XlMxn"
      }
    },
    {
      "cell_type": "code",
      "source": [
        "print(3 + 4) # 7\n",
        "print(3 - 4) # -1\n",
        "print(3 * 4) # 12\n",
        "print(3 / 4) # 0.75"
      ],
      "metadata": {
        "id": "TX7XOGCg5eUN"
      },
      "execution_count": null,
      "outputs": []
    },
    {
      "cell_type": "markdown",
      "source": [
        "### 실습 5\n",
        "\n",
        "변수와 사칙 연산을 활용해서 문제를 풀어봅시다!\n",
        "\n",
        "주석의 힌트를 참고해주세요!"
      ],
      "metadata": {
        "id": "188c1be0mvlO"
      }
    },
    {
      "cell_type": "code",
      "source": [
        "#'num1'이라는 변수를 하나 선언하고, 숫자 23571를 넣어줍시다.\n",
        "num1 = 23571\n",
        "\n",
        "#'num2'이라는 변수를 하나 선언하고, 이전 값에 1024를 곱한 값을 넣어줍시다.\n",
        "num2 = num1 * 1024\n",
        "\n",
        "#'num3'이라는 변수를 하나 선언하고, 이전 값에 243을 나눈 값을 넣어줍시다.\n",
        "num3 = num2 / 243\n",
        "\n",
        "#'num4'이라는 변수를 하나 선언하고, 이전 값에 4927819을 더한 값을 넣어줍시다.\n",
        "num4 = num3 + 4927819\n",
        "\n",
        "#'Answer'이라는 변수를 하나 선언하고, 이전 값에 829176을 뺀 값을 넣어줍시다.\n",
        "answer = num4 - 829176\n",
        "\n",
        "# answer 를 출력해봅시다.\n",
        "print(answer, \"입니다!\")\n"
      ],
      "metadata": {
        "id": "ZJ_klOe1nH2B"
      },
      "execution_count": null,
      "outputs": []
    },
    {
      "cell_type": "markdown",
      "source": [
        "### 자료형의 특수 사칙 연산\n",
        "\n",
        "```\n",
        "// : 몫 연산자\n",
        "% : 나머지 연산자\n",
        "** : 제곱 연산자\n",
        "```"
      ],
      "metadata": {
        "id": "QkFhK0-CnlIC"
      }
    },
    {
      "cell_type": "code",
      "source": [
        "print(15 // 2) # 7\n",
        "print(15 % 2) # 1\n",
        "print(2 ** 4) # 16"
      ],
      "metadata": {
        "id": "yK0lyRmHOBMV"
      },
      "execution_count": null,
      "outputs": []
    },
    {
      "cell_type": "markdown",
      "source": [
        "### 실습 6\n",
        "\n",
        "주석에 나오는 값이 나올 수 있도록 특수 사칙 연산자를 활용해보세요."
      ],
      "metadata": {
        "id": "oFcrKbVhn7_8"
      }
    },
    {
      "cell_type": "code",
      "source": [
        "# intdiv가 4가 되도록 //을 이용해서 수식을 작성해봅시다.\n",
        "intdiv = 16 // 4\n",
        "\n",
        "# modular가 1가 되도록 %을 이용해서 수식을 작성해봅시다.\n",
        "modular = 3 % 2\n",
        "\n",
        "# expo가 16가 되도록 **을 이용해서 수식을 작성해봅시다.\n",
        "expo = 4 ** 2\n",
        "\n",
        "#위의 세 변수를 출력해서 확인해봅시다!\n",
        "print(intdiv, modular, expo)"
      ],
      "metadata": {
        "id": "WwXMRCh7oEe4"
      },
      "execution_count": null,
      "outputs": []
    },
    {
      "cell_type": "markdown",
      "source": [
        "### 문자형 자료의 연산\n",
        "\n",
        "```\n",
        "+ : 이어 붙이기 (with. 문자열)\n",
        "* : 반복 하기 (with. 숫자)\n",
        "```"
      ],
      "metadata": {
        "id": "5pb1sPV2oh2j"
      }
    },
    {
      "cell_type": "code",
      "source": [
        "# Start + Up = ?\n",
        "print('Start' + 'Up')\n",
        "\n",
        "# Fighting * 3 = ?\n",
        "print('Fighting' * 3)"
      ],
      "metadata": {
        "id": "EVVHHi9ZOtIg"
      },
      "execution_count": null,
      "outputs": []
    },
    {
      "cell_type": "markdown",
      "source": [
        "### 실습 7\n",
        "\n",
        "문자열 연산을 해봅시다."
      ],
      "metadata": {
        "id": "uqRIa44npoO3"
      }
    },
    {
      "cell_type": "code",
      "source": [
        "# 변수 connect_str를 선언하고, 연결 연산자를 이용해서 '덩덕쿵덕'를 넣어봅시다.\n",
        "connect_str = '덩덕'+'쿵덕'\n",
        "\n",
        "# 변수 iterate_str를 선언하고 반복 연산자를 이용해서 '쿵덕쿵덕'을 넣어봅시다.\n",
        "iterate_str = '쿵덕'*2\n",
        "\n",
        "# 위 두 변수를 이용해서 '덩덕쿵덕쿵덕쿵덕덩덕쿵덕쿵덕쿵덕'을 변수 jajinmori에 넣어봅시다\n",
        "jajinmori = (connect_str+iterate_str)*2\n",
        "\n",
        "print(connect_str, iterate_str, jajinmori)"
      ],
      "metadata": {
        "id": "gdpkQWutpvbZ"
      },
      "execution_count": null,
      "outputs": []
    },
    {
      "cell_type": "markdown",
      "source": [
        "## 문자열 / 리스트 접근하기"
      ],
      "metadata": {
        "id": "N1VVZGeJpyms"
      }
    },
    {
      "cell_type": "markdown",
      "source": [
        "### 인덱싱 (Indexing)\n",
        "\n",
        "Index 를 활용해서 시퀀스 (리스트나 문자열) 의 특정 위치의 원소를 가져 오는 방법\n",
        "```\n",
        "시퀀스[index] -> 시퀀스에서 인덱스 원소 출력\n",
        "```"
      ],
      "metadata": {
        "id": "hzQPvfa3qBBq"
      }
    },
    {
      "cell_type": "code",
      "source": [
        "# lion 에서 인덱스 2인 원소 'a' 를 출력\n",
        "lion = 'Startup'\n",
        "\n",
        "print(lion[2])"
      ],
      "metadata": {
        "id": "w7jlsotpR5vf"
      },
      "execution_count": null,
      "outputs": []
    },
    {
      "cell_type": "markdown",
      "source": [
        "### 슬라이싱 (Slicing)\n",
        "\n",
        "Index 를 활용해서 시퀀스 (리스트나 문자열) 의 일부분을 잘라서 가져 오는 방법\n",
        "\n",
        "```\n",
        "시퀀스[a (시작) : b (종료)] -> 시퀀스 내 index a 이상 b 미만의 원소 출력\n",
        "```"
      ],
      "metadata": {
        "id": "6bt519e9qN5K"
      }
    },
    {
      "cell_type": "code",
      "source": [
        "# code 에서 인덱스 2인 원소 이상 5번째 원소 미만을 출력\n",
        "code = 'python'\n",
        "\n",
        "print(code[2:5])"
      ],
      "metadata": {
        "id": "ooHlQ6WaSNHW"
      },
      "execution_count": null,
      "outputs": []
    },
    {
      "cell_type": "markdown",
      "source": [
        "### 실습 8\n",
        "\n",
        "인덱싱과 슬라이싱으로 날씨 데이터에서 원하는 정보만 추출하기!"
      ],
      "metadata": {
        "id": "LrntZfQBqoc1"
      }
    },
    {
      "cell_type": "code",
      "source": [
        "#3월 서울의 날씨는 다음과 같습니다. \"흐리고 비\" 요소만 추출해보겠습니다!\n",
        "seoul = ['8_맑음', '9_맑음', '10_흐리고 비', '11_맑음', '12_맑음', '13_맑음', '14_맑음', '15_맑음']\n",
        "\n",
        "#이 변수에 넣어봅시다!\n",
        "seoul_rain = seoul[2]\n",
        "\n",
        "#동일한 기간의 제주 날씨는 다음과 같습니다. 마찬가지로 \"흐리고 비\" 요소들을 추출해보겠습니다!\n",
        "jeju = ['8_맑음', '9_맑음', '10_맑음', '11_맑음', '12_흐리고 비', '13_흐리고 비', '14_흐리고 비', '15_맑음', '16_맑음', '17_맑음']\n",
        "\n",
        "#이 변수에 넣어봅시다!\n",
        "jeju_rain = jeju[4:7]\n",
        "\n",
        "#여러분이 추출한 날씨 정보를 print()를 이용해서 한번 확인해보세요!\n",
        "print('서울에서 비가 오는 날씨는 ', seoul_rain)\n",
        "print('제주에서 비가 오는 날씨는 ', jeju_rain)"
      ],
      "metadata": {
        "id": "dwwRjE3vqvhZ"
      },
      "execution_count": null,
      "outputs": []
    },
    {
      "cell_type": "markdown",
      "source": [
        "## 입력 - input()\n",
        "\n",
        "```\n",
        "변수 = input()\n",
        "```\n",
        "\n",
        "터미널에 값을 `입력` 해주세요."
      ],
      "metadata": {
        "id": "P2-EalTvrUFO"
      }
    },
    {
      "cell_type": "code",
      "source": [
        "var = input()"
      ],
      "metadata": {
        "id": "mQub2GsRTDJ6"
      },
      "execution_count": null,
      "outputs": []
    },
    {
      "cell_type": "markdown",
      "source": [
        "### 실습 9\n",
        "\n",
        "input() 으로 내가 원하는 내용을 출력해봅시다.\n",
        "\n",
        "그리고 입력한 값이 어떤 자료형인지 확인해봅시다."
      ],
      "metadata": {
        "id": "DUyRt2SIsNju"
      }
    },
    {
      "cell_type": "code",
      "source": [
        "# input()을 이용해서 입력을 넣고, 이를 변수 var에 담아봅시다.\n",
        "var = input()\n",
        "\n",
        "# 입력 받은 값은 다음과 같습니다.\n",
        "print(\"입력 받은 값 :\", var)\n",
        "\n",
        "# 입력한 값이 어떤 자료형인지 확인해봅시다.\n",
        "print(type(var))"
      ],
      "metadata": {
        "id": "PZfSZaXPscqd"
      },
      "execution_count": null,
      "outputs": []
    },
    {
      "cell_type": "markdown",
      "source": [
        "### input() 의 중요한 특징\n",
        "\n",
        "무엇을 입력하든 “문자열” 로 입력을 받습니다.\n",
        "\n",
        "만약 숫자를 입력해야 한다면 어떻게 해야 할까요?\n",
        "\n",
        "입력 받은 이후에 가공을 해주어야 합니다."
      ],
      "metadata": {
        "id": "VRuW_ILvsn4x"
      }
    },
    {
      "cell_type": "code",
      "source": [
        "a = '123'\n",
        "b = int('123')\n",
        "\n",
        "print(a, b) # 123, 123\n",
        "\n",
        "print(type(a)) # 문자열\n",
        "print(type(b)) # 숫자"
      ],
      "metadata": {
        "id": "fx-URa_gWQtg"
      },
      "execution_count": null,
      "outputs": []
    },
    {
      "cell_type": "markdown",
      "source": [
        "### 실습 10\n",
        "\n",
        "자료형을 변환해봅시다!\n",
        "\n",
        "input()은 입력받은 값을 문자열(string)으로 저장합니다.\n",
        "\n",
        "하지만 숫자를 입력 받아 일련의 숫자 연산을 해야하는 경우가 많기 때문에, 입력받은 자료를 형변환해줄 필요가 있습니다.\n",
        "\n",
        "변환을 해주기 위해서는 아래와 같이 형변환할 문자열 자료인 345를 정수 자료형의 이름으로 감싸주면 됩니다.\n",
        "\n",
        "```\n",
        "# 결과 : 문자열 \"345\" 출력\n",
        "word = \"345\"\n",
        "print(word)\n",
        "\n",
        "# 결과 : 숫자 345 출력\n",
        "word = int(word)\n",
        "print(word)\n",
        "```\n",
        "\n",
        "E 은행의 2배로 적금은 초기 예치금의 정확히 2배만큼 돈을 돌려준다고 합니다. 초기 예치금을 입력으로 줄 때, 혜자 적금으로 받을 수 있는 돈을 출력해봅시다."
      ],
      "metadata": {
        "id": "CcjSsyQ3s6M5"
      }
    },
    {
      "cell_type": "code",
      "source": [
        "#변수 money에 input을 이용해서 입력을 받아봅시다.\n",
        "money=input()\n",
        "\n",
        "# money를 int형으로 변환해서, 다시 money에 넣어줍시다.\n",
        "money=int(money)\n",
        "\n",
        "# money를 2배 불려서 print로 출력해봅시다.\n",
        "money = money*2\n",
        "\n",
        "print(money)"
      ],
      "metadata": {
        "id": "Z7X5cnAYs8La"
      },
      "execution_count": null,
      "outputs": []
    },
    {
      "cell_type": "markdown",
      "source": [
        "## 논리자료형과 비교 연산"
      ],
      "metadata": {
        "id": "Ort-sORxt4-6"
      }
    },
    {
      "cell_type": "markdown",
      "source": [
        "### 논리 자료형\n",
        "\n",
        "True / False (참 혹은 거짓)을 나타내는 자료형"
      ],
      "metadata": {
        "id": "7-UTSTXht7ai"
      }
    },
    {
      "cell_type": "markdown",
      "source": [
        "### 비교 연산자\n",
        "\n",
        "숫자나 문자의 값을 비교하는 연산자\n",
        "\n",
        "주어진 진술이 참이면, True\n",
        "\n",
        "거짓이면 False\n",
        "\n",
        "를 반환합니다."
      ],
      "metadata": {
        "id": "9XOcA4dAuG0I"
      }
    },
    {
      "cell_type": "code",
      "source": [
        "print(3 < 4) # True\n",
        "print(7 == 6) # False\n",
        "print(1 >= 10) # False\n",
        "print(5 != 6) # True"
      ],
      "metadata": {
        "id": "rDLsHaOkAsE5"
      },
      "execution_count": null,
      "outputs": []
    },
    {
      "cell_type": "markdown",
      "source": [
        "### 실습 11\n",
        "\n",
        "비교 연산자 활용하기\n",
        "\n",
        "비교 연산자는 두 자료를 비교하는 연산자입니다. 비교 연산자를 사용하면, 컴퓨터는 그 값의 결과에 따라 우리에게 True 혹은 False를 나타냅니다.\n",
        "\n",
        "예를 들어, 아래와 같이 비교 연산자가 쓰인 명제가 있을 때, 숫자 3과 숫자 5는 엄연히 다른 수이므로 거짓을 의미하는 False를 나타냅니다.\n",
        "\n",
        "```\n",
        "# 의미 : 3과 5는 같다\n",
        "3 == 5\n",
        "\n",
        "# 결과  : False\n",
        "print(3==5)\n",
        "```\n",
        "\n",
        "변수 3개(ans1, ans2, ans3)에 주어진 조건을 만족하는 명제를 넣어봅시다."
      ],
      "metadata": {
        "id": "tpKHoO9YuWnq"
      }
    },
    {
      "cell_type": "code",
      "source": [
        "# Q1. == 혹은 != 연산자을 이용해서 True인 명제를 ans1에 넣어봅시다.\n",
        "ans1 = 1!=0\n",
        "\n",
        "# Q2. > 혹은 < 연산자를 이용해서 False인 명제를 ans2에 넣어봅시다.\n",
        "ans2 = 2<1\n",
        "\n",
        "# Q3. >= 혹은 <= 연산자를 이용해서 True인 명제를 ans3에 넣어봅시다.\n",
        "ans3 = 2<=3\n",
        "\n",
        "# 위의 세 변수를 출력해서 True, False 여부를 확인해봅시다.\n",
        "print(ans1, ans2, ans3)"
      ],
      "metadata": {
        "id": "5dANylbauZ9R"
      },
      "execution_count": null,
      "outputs": []
    },
    {
      "cell_type": "markdown",
      "source": [
        "### AND / OR / NOT 연산자"
      ],
      "metadata": {
        "id": "UiMTcP0xuwL7"
      }
    },
    {
      "cell_type": "code",
      "source": [
        "# AND 연산자\n",
        "print(7==7 and 1<=2 and 7>3)\n",
        "\n",
        "# 각 논리가 모두 True 이므로 True"
      ],
      "metadata": {
        "id": "7SZIdt6cBnTd"
      },
      "execution_count": null,
      "outputs": []
    },
    {
      "cell_type": "code",
      "source": [
        "# OR 연산자\n",
        "print(7==6 or 2>=7 or 7>3)\n",
        "\n",
        "# 7>3가 True 이므로, True가 존재하기 때문에 True"
      ],
      "metadata": {
        "id": "68QDb9mrC8F9"
      },
      "execution_count": null,
      "outputs": []
    },
    {
      "cell_type": "code",
      "source": [
        "# NOT 연산자\n",
        "print(not 7 == 7)\n",
        "\n",
        "# 7 == 7 은 True이지만 not 이 붙었으므로, False"
      ],
      "metadata": {
        "id": "bbHoDS4cDv_1"
      },
      "execution_count": null,
      "outputs": []
    },
    {
      "cell_type": "markdown",
      "source": [
        "### 실습 12\n",
        "\n",
        "논리 연산자 활용하기\n",
        "\n",
        "논리 자료형을 연산하는 방법엔 AND, OR, NOT 등이 있습니다.\n",
        "\n",
        "```\n",
        "a = True\n",
        "b = False\n",
        "c = 3>4\n",
        "d = 2==2\n",
        "```\n",
        "```\n",
        "print(a and c) # False\n",
        "print(b or d) # True\n",
        "print(not a) # False\n",
        "```\n",
        "\n",
        "AND → and\n",
        "모든 논리가 True면 True, 아닐 시 False\n",
        "\n",
        "OR → or\n",
        "논리 중 True가 하나라도 존재하면 True, 아닐 시 False\n",
        "\n",
        "NOT → not\n",
        "논리를 뒤집는 연산자\n",
        "\n",
        "실습에서 논리 연산자 사이에 하나의 명제가 빠져있습니다.\n",
        "\n",
        "원하는 논리(True/False)가 나오도록 빠진 부분을 채워넣어주세요!"
      ],
      "metadata": {
        "id": "XYmJ63EOvBfC"
      }
    },
    {
      "cell_type": "code",
      "source": [
        "# 괄호 안에 적절한 명제를 채워 stat1이 True가 되게 해봅시다.\n",
        "stat1 = 3==3 and 2<4 and (1!=0)\n",
        "\n",
        "# 괄호 안에 적절한 명제를 채워 stat2이 False가 되게 해봅시다.\n",
        "stat2 = 4>=6 or \"apple\"==\"Apple\" or (1==0)\n",
        "\n",
        "# 괄호 안에 적절한 명제를 채워 stat3이 True가 되게 해봅시다.\n",
        "stat3 = not (1==0)\n",
        "\n",
        "# 위의 세 변수를 출력해서 True, False 여부를 확인해봅시다.\n",
        "print(stat1, stat2, stat3)\n"
      ],
      "metadata": {
        "id": "L5_9CmN-0sRv"
      },
      "execution_count": null,
      "outputs": []
    },
    {
      "cell_type": "markdown",
      "source": [
        "## 조건문"
      ],
      "metadata": {
        "id": "kURIRkCzvXvE"
      }
    },
    {
      "cell_type": "markdown",
      "source": [
        "if 문은 조건이 True 이면 아래의 명령을 실행합니다.\n",
        "\n",
        "또한, if문에 들어갈 명령들은 같은 들여쓰기로 구분해줍니다.\n",
        "\n",
        "```\n",
        "if 조건:\n",
        "    <수행할 명령>\n",
        "    <수행할 명령>\n",
        "    ...\n",
        "```"
      ],
      "metadata": {
        "id": "RkiylS8DGbzQ"
      }
    },
    {
      "cell_type": "code",
      "source": [
        "# 예제 코드\n",
        "num = [0, 1, 2]\n",
        "count = 0\n",
        "\n",
        "if num[1] == 1:\n",
        "    count = count + 1\n",
        "    print(count)"
      ],
      "metadata": {
        "id": "w1YV43TlEJf4"
      },
      "execution_count": null,
      "outputs": []
    },
    {
      "cell_type": "markdown",
      "source": [
        "### if 문에서 조건을 만족하지 못한다면? -> Else\n",
        "\n",
        "만약 i == 7이면, i를 출력하라!\n",
        "\n",
        "아니면 i + 1을 출력해라!\n",
        "\n",
        "else (i != 7)"
      ],
      "metadata": {
        "id": "N0JlFbAPwdSD"
      }
    },
    {
      "cell_type": "code",
      "source": [
        "x = input()\n",
        "\n",
        "if x in ['a', 'e', 'i', 'o', 'u']:\n",
        "    print(\"모음 입니다.\")\n",
        "else:\n",
        "    print(\"자음 입니다.\")"
      ],
      "metadata": {
        "id": "FwXMrLy1H64V"
      },
      "execution_count": null,
      "outputs": []
    },
    {
      "cell_type": "markdown",
      "source": [
        "### 실습 13\n",
        "\n",
        "만약 ~라면 if, 아니라면 else!\n",
        "\n",
        "조건을 만족해주는 경우의 명령은 if문을 통해 전달해줄 수 있고, 만족하지 못하는 경우에는 else문에 원하는 명령을 적어주면 됩니다.\n",
        "\n",
        "```\n",
        "if 조건:\n",
        "    do A\n",
        "else:\n",
        "    do B\n",
        "```\n",
        "\n",
        "다음과 같은 상황일 때, 조건을 만족하면 A를, 그렇지 못하다면 B를 실행합니다. 이때, else는 if문에 해당하지 않는 경우를 의미하므로, 반드시 if문과 함께 쓰여야합니다!\n",
        "\n",
        "if-else문을 이용해서 어떤 수를 입력했을 때, 이 수가 홀수인지 짝수인지 구분하는 프로그램을 작성해봅시다.\n",
        "\n",
        "어떤 수를 2로 나눈 나머지의 값을 이용해 그 수가 홀수인지 짝수인지 알 수 있습니다."
      ],
      "metadata": {
        "id": "kH9iWD6lwvK0"
      }
    },
    {
      "cell_type": "code",
      "source": [
        "# input()을 이용해서 숫자(정수) 입력을 받고, 변수 num에 이를 넣어봅시다.\n",
        "num = int(input())\n",
        "\n",
        "# if-else문을 이용해서 만약 입력받은 수가 홀수면 \"(입력받은 수) 홀수입니다.\"\n",
        "# 짝수면 \"(입력받은 수) 짝수입니다.\"를 출력해봅시다.\n",
        "# 괄호는 출력하지 않습니다.\n",
        "if num%2 == 1:\n",
        "    print(num,\"홀수입니다.\")\n",
        "else:\n",
        "    print(num,\"짝수입니다.\")"
      ],
      "metadata": {
        "id": "2Ufuo5ETwuf3"
      },
      "execution_count": null,
      "outputs": []
    },
    {
      "cell_type": "markdown",
      "source": [
        "### if - else"
      ],
      "metadata": {
        "id": "VnyqRyefxPyc"
      }
    },
    {
      "cell_type": "markdown",
      "source": [
        "```\n",
        "if 조건 1:\n",
        "    <수행할 명령>\n",
        "elif 조건 2:\n",
        "    <수행할 명령>\n",
        "```"
      ],
      "metadata": {
        "id": "HyXDhDQPJEmJ"
      }
    },
    {
      "cell_type": "code",
      "source": [
        "x = int(input())\n",
        "\n",
        "if x % 3 == 0:\n",
        "    print(\"3의 배수 입니다.\")\n",
        "elif x % 3 != 0:\n",
        "    print(\"3의 배수가 아닙니다.\")"
      ],
      "metadata": {
        "id": "xem_Gi9nJFoE"
      },
      "execution_count": null,
      "outputs": []
    },
    {
      "cell_type": "markdown",
      "source": [
        "### if - elif - else"
      ],
      "metadata": {
        "id": "YcWpzHP-xTNS"
      }
    },
    {
      "cell_type": "markdown",
      "source": [
        "```\n",
        "if 조건 1:\n",
        "    do A\n",
        "elif 조건 2:\n",
        "    do B\n",
        "elif 조건 2:\n",
        "    do C\n",
        "    ...\n",
        "else:\n",
        "    do Z\n",
        "```"
      ],
      "metadata": {
        "id": "apKy_1RzJsyn"
      }
    },
    {
      "cell_type": "markdown",
      "source": [
        "### 실습 14\n",
        "\n",
        "A는 아니지만 B라면? elif!\n",
        "우린 삶에서 짜장면은 싫지만, 짬뽕은 먹고 싶은 경우가 있습니다. 이러한 경우에는 어떻게 조건문을 세워주면 될까요?\n",
        "\n",
        "이럴 때는 elif를 사용해주면 됩니다! elif는 else if의 약어로, 아닌 것 중에 만약~ 의 조건을 세워주는 역할을 합니다.\n",
        "\n",
        "```\n",
        "if 조건1:\n",
        "    do A\n",
        "elif 조건2:\n",
        "    do B\n",
        "else:\n",
        "    do C\n",
        "```\n",
        "\n",
        "한 사람이 어떤 수를 생각하고, 다른 사람이 이 수를 예측할때, 생각한 수보다 크면 더 크다, 작으면 더 작다는 정보를 주어 생각한 수를 맞추게 하는 게임을 업-다운 게임이라고 합니다.\n",
        "\n",
        "if-elif-else문을 이용해서 업-다운 게임을 구현해봅시다.\n",
        "\n",
        "주석을 참고해서 문제를 풀어주세요!"
      ],
      "metadata": {
        "id": "BWnc4uuLxvK_"
      }
    },
    {
      "cell_type": "code",
      "source": [
        "# 변수 answer에 수 1~50 중 하나를 넣어봅시다.\n",
        "answer = 25\n",
        "\n",
        "# input으로 숫자 입력을 받아서 변수 submit에 저장해봅시다.\n",
        "submit = int(input())\n",
        "\n",
        "# if-elif-else문으로 Up-Down Game을 구현해봅시다.\n",
        "# 만약 answer보다 submit이 더 크면 \"정답보다 더 큰 수를 입력했습니다.\"\n",
        "# 만약 answer보다 submit이 더 작으면 \"정답보다 더 작은 수를 입력했습니다.\"\n",
        "# 만약 answer와 submit이 같으면 \"정답!\" 를 출력합니다.\n",
        "if answer < submit:\n",
        "    print(\"정답보다 더 큰 수를 입력했습니다.\")\n",
        "elif answer > submit:\n",
        "    print(\"정답보다 더 작은 수를 입력했습니다.\")\n",
        "elif answer == submit:\n",
        "    print(\"정답!\")"
      ],
      "metadata": {
        "id": "NbHTMitpx19r"
      },
      "execution_count": null,
      "outputs": []
    },
    {
      "cell_type": "markdown",
      "source": [
        "### 실습 15\n",
        "\n",
        "대중교통 이용 결정하기\n",
        "\n",
        "아래는 대중교통 이용에 관한 조건에 따라 교통수단을 선택하는 문제입니다.\n",
        "\n",
        "조건:\n",
        "1. 거리가 100km 이상이면 비행기를 이용합니다.\n",
        "2. 거리가 40km 이상 100km 미만이면 기차를 이용합니다.\n",
        "3. 거리가 10km 이상 40km 미만이면 광역 버스를 이용합니다.\n",
        "4. 거리가 10km 미만이면 버스 / 전철를 이용합니다."
      ],
      "metadata": {
        "id": "GkQnC_5C338D"
      }
    },
    {
      "cell_type": "code",
      "source": [
        "# 여러분들의 이동 거리 (km 단위로)를 입력해주세요.\n",
        "distance = int(input())\n",
        "\n",
        "# 조건문을 작성해주세요!\n",
        "if distance >= 100:\n",
        "    print(\"비행기 을 타고 이동할 예정입니다.\")\n",
        "\n",
        "elif distance >= 40:\n",
        "    print(\"기차 을 타고 이동할 예정입니다.\")\n",
        "\n",
        "elif distance >= 10:\n",
        "    print(\"광역 버스 을 타고 이동할 예정입니다.\")\n",
        "\n",
        "else:\n",
        "    print(\"택시 을 타고 이동할 예정입니다.\")"
      ],
      "metadata": {
        "id": "vVcVZVEA34Xp"
      },
      "execution_count": null,
      "outputs": []
    }
  ]
}